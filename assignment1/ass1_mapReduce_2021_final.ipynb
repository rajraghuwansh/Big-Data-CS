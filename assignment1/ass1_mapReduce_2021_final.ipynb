{
 "cells": [
  {
   "cell_type": "markdown",
   "metadata": {
    "ein.tags": [
     "worksheet-0"
    ],
    "id": "eOeG1er1Sjum"
   },
   "source": [
    "<h6><center>Big Data Algorithms Techniques & Platforms</center></h6>\n",
    "\n",
    "<h1>\n",
    "<hr style=\" border:none; height:3px;\">\n",
    "<center>Assignment 1: Introduction to MapReduce</center>\n",
    "<hr style=\" border:none; height:3px;\">\n",
    "</h1>\n",
    "\n",
    "\n",
    "# <strong> Important </strong>\n",
    "\n",
    "For this assignment, as you did in the first lab, do not use the native fuctions <code>map()</code> and <code>reduce()</code> of Python.\n",
    "\n",
    "\n",
    "<hr>\n",
    "\n"
   ]
  },
  {
   "cell_type": "markdown",
   "metadata": {
    "id": "KTePkMCiSjun"
   },
   "source": [
    "## Flights and Airports Data\n",
    "\n",
    "For this assignment you are going to analyze a dataset that will include flight data.\n",
    "\n",
    "The dataset comes from <a href=\"https://www.kaggle.com/flashgordon/usa-airport-dataset\">Kaggle</a> and is presented here as an extract called <code>extract_flights.csv</code>\n",
    "\n",
    "The dataset is in a <code>.csv</code> file. Each line of the file represents a different flight. The data collected contain:\n",
    "\n",
    "\n",
    "<code>Origin_airport</code>: Three letter airport code of the origin airport </br>\n",
    "<code>Destination_airport</code>: Three letter airport code of the destination airport</br>\n",
    "<code>Origin_city</code>: Origin city name</br>\n",
    "<code>Destination_city</code>: Destination city name</br>\n",
    "<code>Passengers</code>: Number of passengers transported from origin to destination</br>\n",
    "<code>Seats</code>: Number of seats available on flights from origin to destination</br>\n",
    "<code>Flights</code>: Number of flights between origin and destination (multiple records for one month, many with flights > 1)</br>\n",
    "<code>Distance</code>: Distance (to nearest mile) flown between origin and destination</br>\n",
    "<code>Fly_date</code>: The date (yyyymm) of flight</br>\n",
    "<code>Origin_population</code>: Origin city's population as reported by US Census</br>\n",
    "<code>Destination_population</code>: Destination city's population as reported by US Census</br>\n",
    "\n",
    "\n",
    "Two files are available in the folder:\n",
    "\n",
    "<ul>\n",
    "  <li> <code> small_file.csv</code> </li>\n",
    "  <li> <code> medium_file.csv</code> </li>\n",
    "</ul>\n",
    "\n",
    "For more complex analysis/statistics you can also download the original file available on kaggle.\n",
    "\n"
   ]
  },
  {
   "cell_type": "markdown",
   "metadata": {
    "id": "cSGllJ6IJufD"
   },
   "source": [
    "### Helper function ... just in case\n",
    "\n",
    "Here is a function that you can modify, reuse, not-use for giving you an idea about how to read a <code>.csv</code> file and remove the header."
   ]
  },
  {
   "cell_type": "code",
   "execution_count": 185,
   "metadata": {
    "colab": {
     "base_uri": "https://localhost:8080/"
    },
    "id": "0QkQIs-PHxMU",
    "outputId": "068ea058-c173-412b-ee25-d743bafdeb35"
   },
   "outputs": [
    {
     "name": "stdout",
     "output_type": "stream",
     "text": [
      "file correctly saved\n"
     ]
    }
   ],
   "source": [
    "# Here a simple function that reads a .csv file, removes the header,\n",
    "# and writes the output on a .txt file having the same name of the input file + the keyword \"no_header\"\n",
    "# input: a csv file\n",
    "def remove_header(filename):\n",
    "    with open(filename + \".csv\",'r') as f:\n",
    "        with open(filename + \"no_header.txt\",'w') as f1:\n",
    "            next(f) # skip header line\n",
    "            for line in f:\n",
    "                f1.write(line)\n",
    "    return f1\n",
    "\n",
    "remove_header('small_file')\n",
    "print(\"file correctly saved\")\n"
   ]
  },
  {
   "cell_type": "markdown",
   "metadata": {
    "id": "RFD6BvLDNs4E"
   },
   "source": [
    "### <strong> Exercise 1 - Almost-empty flights</strong> \n",
    "#### <strong> 4 points </strong>\n",
    "Describe and define a MapReduce procedure that gives as output the number of flights that departed with 10% of capacity maximum (i.e. empty, 1%, 6%, etc.) . \n",
    "\n",
    "The output can be of any form you like. \n",
    "\n",
    "You can use any data structure you want to support your implementation.\n",
    "\n",
    "\n"
   ]
  },
  {
   "cell_type": "markdown",
   "metadata": {},
   "source": [
    "# Implementing everything from scratch without using any python library except data structures like list, dict,tuple,string."
   ]
  },
  {
   "cell_type": "code",
   "execution_count": 186,
   "metadata": {},
   "outputs": [],
   "source": [
    "arr_words = [line.split(\",\") for line in open('small_fileno_header.txt','r')]"
   ]
  },
  {
   "cell_type": "code",
   "execution_count": 187,
   "metadata": {},
   "outputs": [
    {
     "name": "stdout",
     "output_type": "stream",
     "text": [
      "Size odf each Partition is 999\n"
     ]
    }
   ],
   "source": [
    "def partition_fun(seq,num):\n",
    "    avg = len(seq) / float(num)\n",
    "    out = []\n",
    "    last = 0.0\n",
    "\n",
    "    while last < len(seq):\n",
    "        out.append(seq[int(last):int(last + avg)])\n",
    "        last += avg\n",
    "\n",
    "    return out\n",
    "\n",
    "partition_list = partition_fun(arr_words,10) # Trying to create 10 partitions\n",
    "print(\"Size odf each Partition is {}\".format(len(partition_list[0]))) # Size of eaxch Paritiion\n",
    "    "
   ]
  },
  {
   "cell_type": "code",
   "execution_count": 188,
   "metadata": {
    "id": "trRDY4haSjuo"
   },
   "outputs": [],
   "source": [
    "# Implementing everything from scratch without using any python library except data structures like list, dict,tuple,string.\n",
    "def map_e_flights(arr):\n",
    "    res = []\n",
    "    for row in arr:\n",
    "        if (row[2]+row[3]).replace(\" \",'')!=(row[4]+row[5]).replace(\" \",'') and int(row[7])!=0 :\n",
    "            d = dict()\n",
    "            d['percent_boarded'] = ((int(row[6])/int(row[7]))*100)\n",
    "            d['num_flights']= int(row[8])\n",
    "        res.append(d)\n",
    "    return res\n",
    "\n",
    "def shuffle_e_flights(ld):\n",
    "    temp = {}\n",
    "    Z = []\n",
    "    for row in ld:\n",
    "        k,v = row['percent_boarded'],row['num_flights']\n",
    "        if k not in Z:\n",
    "            temp[k]=[v]\n",
    "            Z.append(k)\n",
    "        else:\n",
    "            temp[k].append(v)\n",
    "    res = []\n",
    "    for k,v in temp.items():\n",
    "        d=dict()\n",
    "        d['percent_boarded']=k\n",
    "        d['num_flights']=v\n",
    "        res.append(d)\n",
    "            \n",
    "    return res\n",
    "\n",
    "\n",
    "def reduce_e_flights(ld):\n",
    "    total_flights=[]\n",
    "    for r in ld:\n",
    "        k,v = r['percent_boarded'],r['num_flights']\n",
    "        if k <10:\n",
    "            total_flights.append(r)\n",
    "    s=0\n",
    "    for r in total_flights:\n",
    "        s+=r['num_flights']\n",
    "    return s\n",
    "\n",
    "   \n",
    "            \n"
   ]
  },
  {
   "cell_type": "code",
   "execution_count": 189,
   "metadata": {},
   "outputs": [
    {
     "name": "stdout",
     "output_type": "stream",
     "text": [
      "my map looks like following (only a small chunk is shown) : \n",
      "\n",
      "  [{'percent_boarded': 70.0, 'num_flights': 1}, {'percent_boarded': 10.353535353535353, 'num_flights': 22}]\n",
      "\n",
      " 1269\n"
     ]
    }
   ],
   "source": [
    "list_of_dict = map_e_flights(arr_words)\n",
    "print(\"my map looks like following (only a small chunk is shown) : \\n\\n \", list_of_dict[:2])\n",
    "shuffled_list = shuffle_e_flights(list_of_dict)# rearrange all keys togeteher and sorted them in increasing order\n",
    "required_num_flights = reduce_e_flights(list_of_dict)\n",
    "print(\"\\n\",required_num_flights)\n",
    "# The answer could be varying a bit because of the division and calculating percentage capacity."
   ]
  },
  {
   "cell_type": "markdown",
   "metadata": {
    "id": "WKEj52ZsZUnP"
   },
   "source": [
    "Look at your implementation and think about your program. Is there any option to add a `combine` operation?  If yes describe your new approach and provide an improved version of your code.\n",
    "\n",
    "Describe in detail your procedure before the code (in the comment lines)."
   ]
  },
  {
   "cell_type": "markdown",
   "metadata": {
    "id": "iqa7Q8TASjuu"
   },
   "source": [
    "### <strong> Exercise 2 - Top five destination airports </strong>\n",
    "### <strong> 4 points </strong>\n",
    "\n",
    "Provide now a function that lists the top five destination <strong>airports</strong>: the ones that have the highest number of incoming flights. Implement an algorithm that uses the MapReduce procedure.\n",
    "\n"
   ]
  },
  {
   "cell_type": "code",
   "execution_count": 191,
   "metadata": {
    "id": "YA5It5kQSjuv",
    "scrolled": true
   },
   "outputs": [],
   "source": [
    "#Provide here few comment lines that describe your map function\n",
    "\n",
    "def map_top_flights(arr):\n",
    "    res=[]\n",
    "    for r in arr:\n",
    "        d=dict()\n",
    "        d['num_flights']=int(r[8])\n",
    "        d['dest_airport']=r[1]\n",
    "        res.append(d)\n",
    "    return res\n",
    "        \n",
    "    \n",
    "\n",
    "def shuffle_top_flights(ld):\n",
    "    temp = {}\n",
    "    Z = []\n",
    "    for row in ld:\n",
    "        k,v = row['dest_airport'],row['num_flights']\n",
    "        if k not in Z:\n",
    "            temp[k]=[v]\n",
    "            Z.append(k)\n",
    "        else:\n",
    "            temp[k].append(v)\n",
    "    res = []\n",
    "    for k,v in temp.items():\n",
    "        d=dict()\n",
    "        d['dest_airport']=k\n",
    "        d['num_flights']=v\n",
    "        res.append(d)\n",
    "            \n",
    "    return res\n",
    "    \n",
    "\n",
    "def reduce_top_flights(ld):\n",
    "    temp = []\n",
    "    for pair in ld:\n",
    "        total_flights=sum(pair['num_flights'])\n",
    "        temp.append({'total_incoming_flights':total_flights,'airport_name':pair['dest_airport']})\n",
    "    return sorted(temp,key = lambda x:x['total_incoming_flights'],reverse=True)[:5]\n",
    "        "
   ]
  },
  {
   "cell_type": "code",
   "execution_count": 192,
   "metadata": {},
   "outputs": [
    {
     "name": "stdout",
     "output_type": "stream",
     "text": [
      "[{'total_incoming_flights': 108593, 'airport_name': '\"RDM\"'}, {'total_incoming_flights': 25742, 'airport_name': '\"EKO\"'}, {'total_incoming_flights': 7101, 'airport_name': '\"ERI\"'}, {'total_incoming_flights': 3295, 'airport_name': '\"WDG\"'}, {'total_incoming_flights': 7, 'airport_name': '\"END\"'}]\n",
      "\n",
      "The top five destination airports are\n"
     ]
    },
    {
     "data": {
      "text/plain": [
       "['\"RDM\"', '\"EKO\"', '\"ERI\"', '\"WDG\"', '\"END\"']"
      ]
     },
     "execution_count": 192,
     "metadata": {},
     "output_type": "execute_result"
    }
   ],
   "source": [
    "arr_words = [line.split(',') for line in open('small_fileno_header.txt','r')]\n",
    "x1 = map_top_flights(arr_words)\n",
    "x2 = shuffle_top_flights(x1)\n",
    "x3 = reduce_top_flights(x2)\n",
    "print(x3)\n",
    "print('\\n''The top five destination airports are')\n",
    "[i['airport_name'] for i in x3]"
   ]
  },
  {
   "cell_type": "markdown",
   "metadata": {
    "id": "Q4p2_JHi0NHw"
   },
   "source": [
    "### <strong> Exercise 3 - Top 5 destination cities </strong>\n",
    "#### <strong>  2 points </strong>\n",
    "\n",
    "Try to reuse the code you run before and define a function that lists the top five destination <strong>cities</strong>: the ones that have the highest number of incoming flights. Implement an algorithm that uses the MapReduce procedure.\n"
   ]
  },
  {
   "cell_type": "code",
   "execution_count": 193,
   "metadata": {
    "id": "UOJ603rJ0z4x"
   },
   "outputs": [],
   "source": [
    "#Provide here few comment lines that describe your map function\n",
    "\n",
    "def map_top_cities(arr):\n",
    "    res=[]\n",
    "    for r in arr:\n",
    "        d=dict()\n",
    "        d['num_flights']=int(r[8])\n",
    "        d['dest_city']=r[4]+r[5].replace(' ','')\n",
    "        res.append(d)\n",
    "    return res\n",
    "        \n",
    "    \n",
    "def shuffle_top_cities(ld):\n",
    "    temp = {}\n",
    "    Z = []\n",
    "    for row in ld:\n",
    "        k,v = row['dest_city'],row['num_flights']\n",
    "        if k not in Z:\n",
    "            temp[k]=[v]\n",
    "            Z.append(k)\n",
    "        else:\n",
    "            temp[k].append(v)\n",
    "    res = []\n",
    "    for k,v in temp.items():\n",
    "        d=dict()\n",
    "        d['dest_city']=k\n",
    "        d['num_flights']=v\n",
    "        res.append(d)\n",
    "            \n",
    "    return res\n",
    "    \n",
    "\n",
    "def reduce_top_cities(ld):\n",
    "    temp = []\n",
    "    for pair in ld:\n",
    "        total_flights=sum(pair['num_flights'])\n",
    "        temp.append({'total_incoming_flights':total_flights,'city_name':pair['dest_city']})\n",
    "    return sorted(temp,key = lambda x:x['total_incoming_flights'],reverse=True)[:5]\n",
    "        "
   ]
  },
  {
   "cell_type": "code",
   "execution_count": 194,
   "metadata": {},
   "outputs": [
    {
     "name": "stdout",
     "output_type": "stream",
     "text": [
      "[{'total_incoming_flights': 108593, 'city_name': '\"BendOR\"'}, {'total_incoming_flights': 25742, 'city_name': '\"ElkoNV\"'}, {'total_incoming_flights': 7101, 'city_name': '\"EriePA\"'}, {'total_incoming_flights': 3302, 'city_name': '\"EnidOK\"'}, {'total_incoming_flights': 1, 'city_name': '\"AmesIA\"'}]\n",
      "\n",
      "The top five destination cities are\n"
     ]
    },
    {
     "data": {
      "text/plain": [
       "['\"BendOR\"', '\"ElkoNV\"', '\"EriePA\"', '\"EnidOK\"', '\"AmesIA\"']"
      ]
     },
     "execution_count": 194,
     "metadata": {},
     "output_type": "execute_result"
    }
   ],
   "source": [
    "arr_words = [line.split(',') for line in open('small_fileno_header.txt','r')]\n",
    "x1 = map_top_cities(arr_words)\n",
    "x2 = shuffle_top_cities(x1)\n",
    "x3 = reduce_top_cities(x2)\n",
    "print(x3)\n",
    "print('\\n''The top five destination cities are')\n",
    "[i['city_name'] for i in x3]"
   ]
  },
  {
   "cell_type": "markdown",
   "metadata": {
    "id": "Rk34RU8JSjuz"
   },
   "source": [
    "## Statistics on flights\n",
    "\n",
    "<p align=\"justify\">\n",
    "<font size=\"3\">\n",
    "Now we want to run some more complex analysis on the flights. \n",
    "</font>\n",
    "</p>\n",
    "\n",
    "\n",
    "\n"
   ]
  },
  {
   "cell_type": "markdown",
   "metadata": {
    "id": "FwbGGzCg2WlY"
   },
   "source": [
    "### <strong> Exercise 4 - Top five connections by month</strong>\n",
    "#### <strong> 4 points </strong>\n",
    "\n",
    "Try to reuse the code you run before and define now a function that lists the top five connections by each month: the top five pairs of cities that have the most number of connections (the function takes into account the flights from A to B and from B to A by month/year). Implement an algorithm that uses the MapReduce procedure."
   ]
  },
  {
   "cell_type": "code",
   "execution_count": 196,
   "metadata": {
    "id": "cHbkfinx27Dx"
   },
   "outputs": [],
   "source": [
    "#Provide here few comment lines that describe your map function\n",
    "\n",
    "def map_top_connections(arr):\n",
    "    res =[]\n",
    "    for row in arr:\n",
    "        city_pair = (row[2][1:]+row[3][1:-1],row[4][1:]+row[5][1:-1])\n",
    "        year = row[10][:4]\n",
    "        month = row[10][:4]\n",
    "        num_flight = int(row[8])\n",
    "        d = [num_flight,(city_pair,year,month)]\n",
    "        res.append(d)\n",
    "    return res\n",
    "\n",
    "# def shuffle_top_connections(ld):\n",
    "#     myset= set()\n",
    "#     res=[]\n",
    "#     for r in ld:\n",
    "#         if r[1] not in myset:\n",
    "#             myset.add(r[1])\n",
    "#             res.append(r)\n",
    "#         else:\n",
    "            \n",
    "            \n",
    "        \n",
    "           \n",
    "     \n",
    "        \n",
    "        \n",
    "            \n",
    "        \n",
    "\n",
    "# #Provide here few comment lines that describe your reduce function\n",
    "\n",
    "# def reduce_top_connections( #to be completed"
   ]
  },
  {
   "cell_type": "code",
   "execution_count": 197,
   "metadata": {},
   "outputs": [
    {
     "name": "stdout",
     "output_type": "stream",
     "text": [
      "None\n"
     ]
    }
   ],
   "source": [
    "Z =map_top_connections(arr_words)[0:100]\n",
    "Y=shuffle_top_connections(Z)\n",
    "print(Y)"
   ]
  },
  {
   "cell_type": "markdown",
   "metadata": {
    "id": "9VBatJCf22oZ"
   },
   "source": [
    "Look at your code. Can you use a <code>combine()</code> operation? \n",
    "\n",
    "If you cannot directly think about how you can represent the key-value pairs in a way that allows you to take advantage of a combine."
   ]
  },
  {
   "cell_type": "markdown",
   "metadata": {
    "id": "yIqc-JJDbdgX"
   },
   "source": [
    "### <strong> Exercise 5 - Number of full flights</strong>\n",
    "#### <strong> 2 points </strong>\n",
    "<p align=\"justify\">\n",
    "<font size=\"3\">\n",
    "Describe and implement an algorithm that, following MapReduce procedure, shows how many full flights have departed. This exercise gives you an idea about how many times you can re-use code in MapReduce with minimum effort for repetitive analysis.\n",
    "</font>\n",
    "</p>\n",
    "\n"
   ]
  },
  {
   "cell_type": "code",
   "execution_count": 198,
   "metadata": {
    "id": "ved9CtvMSju0",
    "scrolled": true
   },
   "outputs": [],
   "source": [
    "#Provide here few comment lines that describe your map function\n",
    "\n",
    "#USABILITY FROM EXERCISE-1\n",
    "\n",
    "def map_e_flights(arr):\n",
    "    res = []\n",
    "    for row in arr:\n",
    "        if (row[4]+row[5]).replace(\" \",'')!=(row[2]+row[3]).replace(\" \",'') and int(row[7])!=0 :\n",
    "            d = dict()\n",
    "            d['percent_boarded'] = (round((int(row[6])/int(row[7]))*100,2))\n",
    "            d['num_flights']= int(row[8])\n",
    "            res.append(d)\n",
    "    return res\n",
    "\n",
    "def shuffle_e_flights(ld):\n",
    "    temp = {}\n",
    "    Z = []\n",
    "    for row in ld:\n",
    "        k,v = row['percent_boarded'],row['num_flights']\n",
    "        if k not in Z:\n",
    "            temp[k]=[v]\n",
    "            Z.append(k)\n",
    "        else:\n",
    "            temp[k].append(v)\n",
    "    res = []\n",
    "    for k,v in temp.items():\n",
    "        d=dict()\n",
    "        d['percent_boarded']=k\n",
    "        d['num_flights']=v\n",
    "        res.append(d)\n",
    "            \n",
    "    return res\n",
    "\n",
    "def reduce_full_flights(ld):\n",
    "    res=[]\n",
    "    for row in ld:\n",
    "        if row['percent_boarded']==100.0:\n",
    "            res.append(row)\n",
    "    return res\n",
    "    \n",
    "\n"
   ]
  },
  {
   "cell_type": "code",
   "execution_count": 200,
   "metadata": {},
   "outputs": [
    {
     "name": "stdout",
     "output_type": "stream",
     "text": [
      "554\n"
     ]
    }
   ],
   "source": [
    "arr_words = [line.split(',') for line in open('small_fileno_header.txt','r')]\n",
    "x1 = map_e_flights(arr_words)\n",
    "x2 = shuffle_e_flights(x1)\n",
    "x3 = reduce_full_flights(x2)\n",
    "s=0\n",
    "for r in x3:\n",
    "    s+=sum(r['num_flights'])\n",
    "print(s)"
   ]
  },
  {
   "cell_type": "markdown",
   "metadata": {
    "id": "lYM8qhAuSju5",
    "scrolled": true
   },
   "source": [
    "\n",
    "### <strong> Exercise 6 -  Average/percentage </strong>\n",
    "#### <strong> 4 points </strong>\n",
    "\n",
    "<p align=\"justify\">\n",
    "<font size=\"3\">\n",
    "Describe and implement a MapReduce procedure that gives, for each city, the percentage/average, of full flights that have departed.\n",
    "\n",
    "Notice that this exercise shares some similarities with one of the previous exercises. Think how and if you can modify (generalize) one of the functions already implemented before. \n",
    "</font>\n",
    "</p>\n",
    "\n"
   ]
  },
  {
   "cell_type": "code",
   "execution_count": 201,
   "metadata": {
    "id": "zPywU-Hu6UF7"
   },
   "outputs": [],
   "source": [
    "# COPYING AND MODIFYING THE CODE FOR EXERCISE-3\n",
    "\n",
    "def map_cities_capacity_flights(arr):\n",
    "    res=[]\n",
    "    for r in arr:\n",
    "        d=dict()\n",
    "        d['city']=r[2]+r[3].replace(\" \",'')\n",
    "        d['full_flights']=int(r[8]) if (int(r[6])==int(r[7])) and int(r[7]) else 0\n",
    "        d['num_flights'] = int(r[8])\n",
    "        res.append(d)\n",
    "    return res\n",
    "        \n",
    "    \n",
    "def shuffle_cities_capacity_flights(ld):\n",
    "    temp= {}\n",
    "    s1 = []\n",
    "    for row in ld:\n",
    "        ff,nf,ci= row['full_flights'],row['num_flights'],row['city']\n",
    "        if ci not in s1:\n",
    "            temp[ci]=[[ff],[nf]]\n",
    "            s1.append(ci)\n",
    "        else:\n",
    "            temp[ci][0].append(ff)\n",
    "            temp[ci][1].append(nf)\n",
    "    res = []\n",
    "    for k,v in temp.items():\n",
    "        d=dict()\n",
    "        d['city']=k\n",
    "        d['total_full_flights']=sum(v[0])\n",
    "        d['total_num_flights'] = sum(v[1])\n",
    "        res.append(d)\n",
    "            \n",
    "    return res\n",
    "    \n",
    "\n",
    "def reduce_cities_full_flights(ld):\n",
    "    res = []\n",
    "    for row in ld:\n",
    "        d = dict()\n",
    "        d['city']=row['city']\n",
    "        d['percent_full_flights'] = (row['total_full_flights']/row['total_num_flights'])*100\n",
    "        res.append(d)\n",
    "    return res\n",
    "    \n",
    "        \n",
    "    \n",
    "        "
   ]
  },
  {
   "cell_type": "code",
   "execution_count": 202,
   "metadata": {},
   "outputs": [
    {
     "data": {
      "text/plain": [
       "[{'city': '\"ManhattanKS\"', 'percent_full_flights': 0.0},\n",
       " {'city': '\"EugeneOR\"', 'percent_full_flights': 0.333889816360601},\n",
       " {'city': '\"MedfordOR\"', 'percent_full_flights': 1.639344262295082},\n",
       " {'city': '\"SeattleWA\"', 'percent_full_flights': 0.015600624024960999},\n",
       " {'city': '\"PortlandOR\"', 'percent_full_flights': 0.001414727311310745},\n",
       " {'city': '\"Klamath FallsOR\"', 'percent_full_flights': 0.0},\n",
       " {'city': '\"San FranciscoCA\"', 'percent_full_flights': 0.0},\n",
       " {'city': '\"Los AngelesCA\"', 'percent_full_flights': 0.0},\n",
       " {'city': '\"WenatcheeWA\"', 'percent_full_flights': 0.0},\n",
       " {'city': '\"YakimaWA\"', 'percent_full_flights': 4.761904761904762},\n",
       " {'city': '\"ElkoNV\"', 'percent_full_flights': 2.272727272727273},\n",
       " {'city': '\"SalemOR\"', 'percent_full_flights': 4.3478260869565215},\n",
       " {'city': '\"SpokaneWA\"', 'percent_full_flights': 4.705882352941177},\n",
       " {'city': '\"ReddingCA\"', 'percent_full_flights': 0.0},\n",
       " {'city': '\"LewistonID\"', 'percent_full_flights': 6.363636363636363},\n",
       " {'city': '\"AstoriaOR\"', 'percent_full_flights': 0.0},\n",
       " {'city': '\"Port AngelesWA\"', 'percent_full_flights': 6.976744186046512},\n",
       " {'city': '\"PendletonOR\"', 'percent_full_flights': 0.0},\n",
       " {'city': '\"San JoseCA\"', 'percent_full_flights': 0.0},\n",
       " {'city': '\"EurekaCA\"', 'percent_full_flights': 0.0},\n",
       " {'city': '\"PullmanWA\"', 'percent_full_flights': 0.0},\n",
       " {'city': '\"SacramentoCA\"', 'percent_full_flights': 0.0},\n",
       " {'city': '\"Fort LauderdaleFL\"', 'percent_full_flights': 0.0},\n",
       " {'city': '\"PhoenixAZ\"', 'percent_full_flights': 0.0},\n",
       " {'city': '\"LongviewTX\"', 'percent_full_flights': 3.0303030303030303},\n",
       " {'city': '\"Great FallsMT\"', 'percent_full_flights': 5.714285714285714},\n",
       " {'city': '\"FresnoCA\"', 'percent_full_flights': 1.2195121951219512},\n",
       " {'city': '\"TucsonAZ\"', 'percent_full_flights': 3.4482758620689653},\n",
       " {'city': '\"Moses LakeWA\"', 'percent_full_flights': 16.666666666666664},\n",
       " {'city': '\"BillingsMT\"', 'percent_full_flights': 0.0},\n",
       " {'city': '\"DallasTX\"', 'percent_full_flights': 0.5072463768115941},\n",
       " {'city': '\"RoseburgOR\"', 'percent_full_flights': 0.0},\n",
       " {'city': '\"Salt Lake CityUT\"', 'percent_full_flights': 0.03106361829025845},\n",
       " {'city': '\"CasperWY\"', 'percent_full_flights': 2.7777777777777777},\n",
       " {'city': '\"BendOR\"', 'percent_full_flights': 2.631578947368421},\n",
       " {'city': '\"RenoNV\"', 'percent_full_flights': 0.03215434083601286},\n",
       " {'city': '\"FairbanksAK\"', 'percent_full_flights': 0.0},\n",
       " {'city': '\"AnchorageAK\"', 'percent_full_flights': 0.0},\n",
       " {'city': '\"El PasoTX\"', 'percent_full_flights': 1.8181818181818181},\n",
       " {'city': '\"ChicoCA\"', 'percent_full_flights': 0.0},\n",
       " {'city': '\"Santa FeNM\"', 'percent_full_flights': 0.0},\n",
       " {'city': '\"AlbuquerqueNM\"', 'percent_full_flights': 3.0172413793103448},\n",
       " {'city': '\"Fort SmithAR\"', 'percent_full_flights': 8.433734939759036},\n",
       " {'city': '\"Las VegasNV\"', 'percent_full_flights': 0.0},\n",
       " {'city': '\"WichitaKS\"', 'percent_full_flights': 3.296703296703297},\n",
       " {'city': '\"DuluthMN\"', 'percent_full_flights': 11.11111111111111},\n",
       " {'city': '\"Crescent CityCA\"', 'percent_full_flights': 0.0},\n",
       " {'city': '\"Oklahoma CityOK\"', 'percent_full_flights': 9.900990099009901},\n",
       " {'city': '\"San DiegoCA\"', 'percent_full_flights': 2.272727272727273},\n",
       " {'city': '\"Santa RosaCA\"', 'percent_full_flights': 0.0},\n",
       " {'city': '\"DurangoCO\"', 'percent_full_flights': 0.0},\n",
       " {'city': '\"OaklandCA\"', 'percent_full_flights': 0.0},\n",
       " {'city': '\"HoustonTX\"', 'percent_full_flights': 1.9607843137254901},\n",
       " {'city': '\"DubuqueIA\"', 'percent_full_flights': 14.583333333333334},\n",
       " {'city': '\"HelenaMT\"', 'percent_full_flights': 0.0},\n",
       " {'city': '\"TulsaOK\"', 'percent_full_flights': 3.9215686274509802},\n",
       " {'city': '\"OmahaNE\"', 'percent_full_flights': 2.771362586605081},\n",
       " {'city': '\"WacoTX\"', 'percent_full_flights': 7.462686567164178},\n",
       " {'city': '\"ButteMT\"', 'percent_full_flights': 5.681818181818182},\n",
       " {'city': '\"AustinTX\"', 'percent_full_flights': 6.896551724137931},\n",
       " {'city': '\"PeoriaIL\"', 'percent_full_flights': 9.876543209876543},\n",
       " {'city': '\"WausauWI\"', 'percent_full_flights': 14.444444444444443},\n",
       " {'city': '\"PuebloCO\"', 'percent_full_flights': 8.0},\n",
       " {'city': '\"TopekaKS\"', 'percent_full_flights': 4.9079754601226995},\n",
       " {'city': '\"Colorado SpringsCO\"', 'percent_full_flights': 7.142857142857142},\n",
       " {'city': '\"Grand JunctionCO\"', 'percent_full_flights': 4.651162790697675},\n",
       " {'city': '\"North PlatteNE\"', 'percent_full_flights': 14.893617021276595},\n",
       " {'city': '\"Wichita FallsTX\"', 'percent_full_flights': 5.9880239520958085},\n",
       " {'city': '\"CheyenneWY\"', 'percent_full_flights': 1.5625},\n",
       " {'city': '\"AberdeenSD\"', 'percent_full_flights': 33.33333333333333},\n",
       " {'city': '\"BrainerdMN\"', 'percent_full_flights': 0.0},\n",
       " {'city': '\"AmarilloTX\"', 'percent_full_flights': 4.25531914893617},\n",
       " {'city': '\"RoswellNM\"', 'percent_full_flights': 0.0},\n",
       " {'city': '\"BismarckND\"', 'percent_full_flights': 15.789473684210526},\n",
       " {'city': '\"MissoulaMT\"', 'percent_full_flights': 0.0},\n",
       " {'city': '\"GilletteWY\"', 'percent_full_flights': 0.0},\n",
       " {'city': '\"LubbockTX\"', 'percent_full_flights': 2.564102564102564},\n",
       " {'city': '\"LiberalKS\"', 'percent_full_flights': 0.21810250817884408},\n",
       " {'city': '\"MidlandTX\"', 'percent_full_flights': 0.0},\n",
       " {'city': '\"MadisonWI\"', 'percent_full_flights': 10.606060606060606},\n",
       " {'city': '\"LincolnNE\"', 'percent_full_flights': 10.869565217391305},\n",
       " {'city': '\"WaterlooIA\"', 'percent_full_flights': 22.857142857142858},\n",
       " {'city': '\"RockfordIL\"', 'percent_full_flights': 17.346938775510203},\n",
       " {'city': '\"Green BayWI\"', 'percent_full_flights': 17.1875},\n",
       " {'city': '\"La CrosseWI\"', 'percent_full_flights': 22.5},\n",
       " {'city': '\"KalispellMT\"', 'percent_full_flights': 5.825242718446602},\n",
       " {'city': '\"MilwaukeeWI\"', 'percent_full_flights': 7.303370786516854},\n",
       " {'city': '\"BellinghamWA\"', 'percent_full_flights': 6.629834254143646},\n",
       " {'city': '\"Fort DodgeIA\"', 'percent_full_flights': 8.333333333333332},\n",
       " {'city': '\"Des MoinesIA\"', 'percent_full_flights': 9.401709401709402},\n",
       " {'city': '\"Eau ClaireWI\"', 'percent_full_flights': 9.090909090909092},\n",
       " {'city': '\"Mason CityIA\"', 'percent_full_flights': 33.33333333333333},\n",
       " {'city': '\"Rapid CitySD\"', 'percent_full_flights': 4.635761589403973},\n",
       " {'city': '\"Little RockAR\"', 'percent_full_flights': 7.936507936507936},\n",
       " {'city': '\"ShreveportLA\"', 'percent_full_flights': 20.0},\n",
       " {'city': '\"Kansas CityMO\"', 'percent_full_flights': 5.3097345132743365},\n",
       " {'city': '\"Grand ForksND\"', 'percent_full_flights': 1.1904761904761905},\n",
       " {'city': '\"BakersfieldCA\"', 'percent_full_flights': 0.0},\n",
       " {'city': '\"San AntonioTX\"', 'percent_full_flights': 5.347593582887701},\n",
       " {'city': '\"MinneapolisMN\"', 'percent_full_flights': 8.0},\n",
       " {'city': '\"SpringfieldMO\"', 'percent_full_flights': 10.0},\n",
       " {'city': '\"ScottsbluffNE\"', 'percent_full_flights': 5.88235294117647},\n",
       " {'city': '\"Sioux FallsSD\"', 'percent_full_flights': 18.181818181818183},\n",
       " {'city': '\"Grand IslandNE\"', 'percent_full_flights': 5.263157894736842},\n",
       " {'city': '\"Cedar RapidsIA\"', 'percent_full_flights': 10.833333333333334},\n",
       " {'city': '\"FayettevilleAR\"', 'percent_full_flights': 0.0},\n",
       " {'city': '\"Sioux CityIA\"', 'percent_full_flights': 0.0},\n",
       " {'city': '\"Garden CityKS\"', 'percent_full_flights': 0.0},\n",
       " {'city': '\"Baton RougeLA\"', 'percent_full_flights': 0.0},\n",
       " {'city': '\"Idaho FallsID\"', 'percent_full_flights': 50.0},\n",
       " {'city': '\"SpringfieldIL\"', 'percent_full_flights': 9.411764705882353},\n",
       " {'city': '\"Santa BarbaraCA\"', 'percent_full_flights': 0.0},\n",
       " {'city': '\"Corpus ChristiTX\"', 'percent_full_flights': 3.2520325203252036},\n",
       " {'city': '\"DecaturIL\"', 'percent_full_flights': 0.0},\n",
       " {'city': '\"ChicagoIL\"', 'percent_full_flights': 2.4096385542168677},\n",
       " {'city': '\"BozemanMT\"', 'percent_full_flights': 0.0},\n",
       " {'city': '\"PierreSD\"', 'percent_full_flights': 0.0},\n",
       " {'city': '\"MonroeLA\"', 'percent_full_flights': 0.0},\n",
       " {'city': '\"YumaAZ\"', 'percent_full_flights': 14.285714285714285},\n",
       " {'city': '\"MinotND\"', 'percent_full_flights': 9.230769230769232},\n",
       " {'city': '\"GaryIN\"', 'percent_full_flights': 4.49438202247191},\n",
       " {'city': '\"FargoND\"', 'percent_full_flights': 14.634146341463413},\n",
       " {'city': '\"RochesterMN\"', 'percent_full_flights': 14.285714285714285},\n",
       " {'city': '\"St. LouisMO\"', 'percent_full_flights': 3.571428571428571},\n",
       " {'city': '\"NashvilleTN\"', 'percent_full_flights': 4.761904761904762},\n",
       " {'city': '\"EvansvilleIN\"', 'percent_full_flights': 10.526315789473683},\n",
       " {'city': '\"MemphisTN\"', 'percent_full_flights': 0.0},\n",
       " {'city': '\"JacksonMS\"', 'percent_full_flights': 0.0},\n",
       " {'city': '\"ModestoCA\"', 'percent_full_flights': 6.25},\n",
       " {'city': '\"ChampaignIL\"', 'percent_full_flights': 7.5},\n",
       " {'city': '\"StocktonCA\"', 'percent_full_flights': 0.0},\n",
       " {'city': '\"IndianapolisIN\"', 'percent_full_flights': 6.451612903225806},\n",
       " {'city': '\"BloomingtonIL\"', 'percent_full_flights': 5.555555555555555},\n",
       " {'city': '\"Twin FallsID\"', 'percent_full_flights': 5.88235294117647},\n",
       " {'city': '\"LaredoTX\"', 'percent_full_flights': 15.942028985507244},\n",
       " {'city': '\"AkronOH\"', 'percent_full_flights': 3.0303030303030303},\n",
       " {'city': '\"MontroseCO\"', 'percent_full_flights': 12.5},\n",
       " {'city': '\"ClevelandOH\"', 'percent_full_flights': 2.631578947368421},\n",
       " {'city': '\"College StationTX\"', 'percent_full_flights': 0.0},\n",
       " {'city': '\"DetroitMI\"', 'percent_full_flights': 0.0},\n",
       " {'city': '\"AbileneTX\"', 'percent_full_flights': 6.122448979591836},\n",
       " {'city': '\"DaytonOH\"', 'percent_full_flights': 3.7037037037037033},\n",
       " {'city': '\"CincinnatiOH\"', 'percent_full_flights': 7.6923076923076925},\n",
       " {'city': '\"JacksonWY\"', 'percent_full_flights': 0.0},\n",
       " {'city': '\"ColumbusOH\"', 'percent_full_flights': 0.0},\n",
       " {'city': '\"South BendIN\"', 'percent_full_flights': 4.081632653061225},\n",
       " {'city': '\"Fort WayneIN\"', 'percent_full_flights': 3.8461538461538463},\n",
       " {'city': '\"KalamazooMI\"', 'percent_full_flights': 0.0},\n",
       " {'city': '\"Rock SpringsWY\"', 'percent_full_flights': 0.0},\n",
       " {'city': '\"BeaumontTX\"', 'percent_full_flights': 9.090909090909092},\n",
       " {'city': '\"PocatelloID\"', 'percent_full_flights': 0.0},\n",
       " {'city': '\"SalinaKS\"', 'percent_full_flights': 7.6923076923076925},\n",
       " {'city': '\"QuincyIL\"', 'percent_full_flights': 0.0},\n",
       " {'city': '\"LawtonOK\"', 'percent_full_flights': 0.0},\n",
       " {'city': '\"ToledoOH\"', 'percent_full_flights': 30.76923076923077},\n",
       " {'city': '\"RivertonWY\"', 'percent_full_flights': 0.0},\n",
       " {'city': '\"BrownsvilleTX\"', 'percent_full_flights': 0.0},\n",
       " {'city': '\"San AngeloTX\"', 'percent_full_flights': 0.0},\n",
       " {'city': '\"San Luis ObispoCA\"', 'percent_full_flights': 0.0},\n",
       " {'city': '\"SheridanWY\"', 'percent_full_flights': 0.0},\n",
       " {'city': '\"MercedCA\"', 'percent_full_flights': 0.0},\n",
       " {'city': '\"KilleenTX\"', 'percent_full_flights': 0.0},\n",
       " {'city': '\"Cedar CityUT\"', 'percent_full_flights': 0.0},\n",
       " {'city': '\"Ponca CityOK\"', 'percent_full_flights': 0.0},\n",
       " {'city': '\"HarrisonAR\"', 'percent_full_flights': 0.0},\n",
       " {'city': '\"EnidOK\"', 'percent_full_flights': 0.0},\n",
       " {'city': '\"BrownwoodTX\"', 'percent_full_flights': 0.0},\n",
       " {'city': '\"Dodge CityKS\"', 'percent_full_flights': 0.0},\n",
       " {'city': '\"PittsburghPA\"', 'percent_full_flights': 0.014343086632243257},\n",
       " {'city': '\"WorcesterMA\"', 'percent_full_flights': 0.0},\n",
       " {'city': '\"IthacaNY\"', 'percent_full_flights': 0.0},\n",
       " {'city': '\"ElmiraNY\"', 'percent_full_flights': 0.0},\n",
       " {'city': '\"BostonMA\"', 'percent_full_flights': 0.0},\n",
       " {'city': '\"AtlantaGA\"', 'percent_full_flights': 0.0},\n",
       " {'city': '\"PhiladelphiaPA\"', 'percent_full_flights': 0.0},\n",
       " {'city': '\"GreensboroNC\"', 'percent_full_flights': 0.0},\n",
       " {'city': '\"FlintMI\"', 'percent_full_flights': 0.0},\n",
       " {'city': '\"BuffaloNY\"', 'percent_full_flights': 0.0}]"
      ]
     },
     "execution_count": 202,
     "metadata": {},
     "output_type": "execute_result"
    }
   ],
   "source": [
    "A = map_cities_capacity_flights(arr_words)\n",
    "B = shuffle_cities_capacity_flights(A)\n",
    "C = reduce_cities_full_flights(B)\n",
    "C"
   ]
  },
  {
   "cell_type": "markdown",
   "metadata": {
    "id": "_o-3JT1L659s"
   },
   "source": [
    "Look at your code. Can you use a <code>combine()</code> operation? \n",
    "\n",
    "If you cannot directly think about how you can represent the key-value pairs in a way that allows you to take advantage of a combine."
   ]
  },
  {
   "cell_type": "code",
   "execution_count": null,
   "metadata": {
    "id": "dEOIsmdE7LQh"
   },
   "outputs": [],
   "source": [
    "#Provide here few comment lines that describe your map function\n",
    "\n",
    "def  #to be completed\n",
    "\n",
    "#Provide here few comment lines that describe your shuffle function\n",
    "\n",
    "def  #to be completed\n",
    "\n",
    "#Provide here few comment lines that describe your reduce function\n",
    "\n",
    "def  #to be completed"
   ]
  },
  {
   "cell_type": "markdown",
   "metadata": {
    "id": "rNFDKY4u-0jY"
   },
   "source": [
    "\n",
    "### <strong> Bonus - Data Analysis </strong>\n",
    "#### Data analysis\n",
    "\n",
    "<p align=\"justify\">\n",
    "<font size=\"3\">\n",
    "Look at the number of almost empty flights and full flights and propose an analysis that explores if there is a correlation between the number of flights connecting two cities, the number of full flights and the percentage of almost empty flights. \n",
    "\n",
    "The granularity of the analysis is important: consider for example the week, the month and the year.\n",
    "</font>\n",
    "</p>\n"
   ]
  },
  {
   "cell_type": "code",
   "execution_count": null,
   "metadata": {
    "id": "Wi4qRKmeBM7s"
   },
   "outputs": [],
   "source": [
    "# Define here your considerations and your code"
   ]
  }
 ],
 "metadata": {
  "anaconda-cloud": {},
  "colab": {
   "collapsed_sections": [],
   "name": "ass1_mapReduce_2021_final.ipynb",
   "provenance": [],
   "toc_visible": true
  },
  "kernelspec": {
   "display_name": "Python 3",
   "language": "python",
   "name": "python3"
  },
  "language_info": {
   "codemirror_mode": {
    "name": "ipython",
    "version": 3
   },
   "file_extension": ".py",
   "mimetype": "text/x-python",
   "name": "python",
   "nbconvert_exporter": "python",
   "pygments_lexer": "ipython3",
   "version": "3.8.8"
  },
  "name": "BE4-Spark.ipynb"
 },
 "nbformat": 4,
 "nbformat_minor": 1
}
